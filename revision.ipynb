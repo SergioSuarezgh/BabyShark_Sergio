{
 "cells": [
  {
   "cell_type": "code",
   "execution_count": 273,
   "metadata": {},
   "outputs": [],
   "source": [
    "##PREPARAMOS LIBRERIAS Y EL ENTORNO DE TRABAJO\n",
    "\n",
    "from cleaning import *\n",
    "\n",
    "import re\n",
    "import pandas as pd\n",
    "import numpy as np\n",
    "import pylab as plt\n",
    "import seaborn as sns \n",
    "import warnings\n",
    "warnings.filterwarnings('ignore')\n",
    "\n",
    "\n",
    "pd.set_option('display.max_columns', None)\n",
    "pd.set_option('display.max_rows', None)"
   ]
  },
  {
   "cell_type": "code",
   "execution_count": 274,
   "metadata": {},
   "outputs": [],
   "source": [
    "##IMPORTAMOS EL ARCHIVO Y HACEMOS UNA COPIA PARA TRABAJAR\n",
    "\n",
    "shark_orin=pd.read_csv('attacks.csv', encoding= 'latin1')\n",
    "\n",
    "shark=shark_orin.copy()"
   ]
  },
  {
   "cell_type": "code",
   "execution_count": 275,
   "metadata": {},
   "outputs": [
    {
     "name": "stdout",
     "output_type": "stream",
     "text": [
      "<class 'pandas.core.frame.DataFrame'>\n",
      "RangeIndex: 25723 entries, 0 to 25722\n",
      "Data columns (total 24 columns):\n",
      " #   Column                  Non-Null Count  Dtype  \n",
      "---  ------                  --------------  -----  \n",
      " 0   Case Number             8702 non-null   object \n",
      " 1   Date                    6302 non-null   object \n",
      " 2   Year                    6300 non-null   float64\n",
      " 3   Type                    6298 non-null   object \n",
      " 4   Country                 6252 non-null   object \n",
      " 5   Area                    5847 non-null   object \n",
      " 6   Location                5762 non-null   object \n",
      " 7   Activity                5758 non-null   object \n",
      " 8   Name                    6092 non-null   object \n",
      " 9   Sex                     5737 non-null   object \n",
      " 10  Age                     3471 non-null   object \n",
      " 11  Injury                  6274 non-null   object \n",
      " 12  Fatal (Y/N)             5763 non-null   object \n",
      " 13  Time                    2948 non-null   object \n",
      " 14  Species                 3464 non-null   object \n",
      " 15  Investigator or Source  6285 non-null   object \n",
      " 16  pdf                     6302 non-null   object \n",
      " 17  href formula            6301 non-null   object \n",
      " 18  href                    6302 non-null   object \n",
      " 19  Case Number.1           6302 non-null   object \n",
      " 20  Case Number.2           6302 non-null   object \n",
      " 21  original order          6309 non-null   float64\n",
      " 22  Unnamed: 22             1 non-null      object \n",
      " 23  Unnamed: 23             2 non-null      object \n",
      "dtypes: float64(2), object(22)\n",
      "memory usage: 22.8 MB\n"
     ]
    },
    {
     "data": {
      "text/html": [
       "<div>\n",
       "<style scoped>\n",
       "    .dataframe tbody tr th:only-of-type {\n",
       "        vertical-align: middle;\n",
       "    }\n",
       "\n",
       "    .dataframe tbody tr th {\n",
       "        vertical-align: top;\n",
       "    }\n",
       "\n",
       "    .dataframe thead th {\n",
       "        text-align: right;\n",
       "    }\n",
       "</style>\n",
       "<table border=\"1\" class=\"dataframe\">\n",
       "  <thead>\n",
       "    <tr style=\"text-align: right;\">\n",
       "      <th></th>\n",
       "      <th>count</th>\n",
       "      <th>unique</th>\n",
       "      <th>top</th>\n",
       "      <th>freq</th>\n",
       "      <th>mean</th>\n",
       "      <th>std</th>\n",
       "      <th>min</th>\n",
       "      <th>25%</th>\n",
       "      <th>50%</th>\n",
       "      <th>75%</th>\n",
       "      <th>max</th>\n",
       "    </tr>\n",
       "  </thead>\n",
       "  <tbody>\n",
       "    <tr>\n",
       "      <th>Case Number</th>\n",
       "      <td>8702</td>\n",
       "      <td>6287</td>\n",
       "      <td>0</td>\n",
       "      <td>2400</td>\n",
       "      <td>NaN</td>\n",
       "      <td>NaN</td>\n",
       "      <td>NaN</td>\n",
       "      <td>NaN</td>\n",
       "      <td>NaN</td>\n",
       "      <td>NaN</td>\n",
       "      <td>NaN</td>\n",
       "    </tr>\n",
       "    <tr>\n",
       "      <th>Date</th>\n",
       "      <td>6302</td>\n",
       "      <td>5433</td>\n",
       "      <td>1957</td>\n",
       "      <td>11</td>\n",
       "      <td>NaN</td>\n",
       "      <td>NaN</td>\n",
       "      <td>NaN</td>\n",
       "      <td>NaN</td>\n",
       "      <td>NaN</td>\n",
       "      <td>NaN</td>\n",
       "      <td>NaN</td>\n",
       "    </tr>\n",
       "    <tr>\n",
       "      <th>Year</th>\n",
       "      <td>6300.0</td>\n",
       "      <td>NaN</td>\n",
       "      <td>NaN</td>\n",
       "      <td>NaN</td>\n",
       "      <td>1927.272381</td>\n",
       "      <td>281.116308</td>\n",
       "      <td>0.0</td>\n",
       "      <td>1942.0</td>\n",
       "      <td>1977.0</td>\n",
       "      <td>2005.0</td>\n",
       "      <td>2018.0</td>\n",
       "    </tr>\n",
       "    <tr>\n",
       "      <th>Type</th>\n",
       "      <td>6298</td>\n",
       "      <td>8</td>\n",
       "      <td>Unprovoked</td>\n",
       "      <td>4595</td>\n",
       "      <td>NaN</td>\n",
       "      <td>NaN</td>\n",
       "      <td>NaN</td>\n",
       "      <td>NaN</td>\n",
       "      <td>NaN</td>\n",
       "      <td>NaN</td>\n",
       "      <td>NaN</td>\n",
       "    </tr>\n",
       "    <tr>\n",
       "      <th>Country</th>\n",
       "      <td>6252</td>\n",
       "      <td>212</td>\n",
       "      <td>USA</td>\n",
       "      <td>2229</td>\n",
       "      <td>NaN</td>\n",
       "      <td>NaN</td>\n",
       "      <td>NaN</td>\n",
       "      <td>NaN</td>\n",
       "      <td>NaN</td>\n",
       "      <td>NaN</td>\n",
       "      <td>NaN</td>\n",
       "    </tr>\n",
       "    <tr>\n",
       "      <th>Area</th>\n",
       "      <td>5847</td>\n",
       "      <td>825</td>\n",
       "      <td>Florida</td>\n",
       "      <td>1037</td>\n",
       "      <td>NaN</td>\n",
       "      <td>NaN</td>\n",
       "      <td>NaN</td>\n",
       "      <td>NaN</td>\n",
       "      <td>NaN</td>\n",
       "      <td>NaN</td>\n",
       "      <td>NaN</td>\n",
       "    </tr>\n",
       "    <tr>\n",
       "      <th>Location</th>\n",
       "      <td>5762</td>\n",
       "      <td>4108</td>\n",
       "      <td>New Smyrna Beach, Volusia County</td>\n",
       "      <td>163</td>\n",
       "      <td>NaN</td>\n",
       "      <td>NaN</td>\n",
       "      <td>NaN</td>\n",
       "      <td>NaN</td>\n",
       "      <td>NaN</td>\n",
       "      <td>NaN</td>\n",
       "      <td>NaN</td>\n",
       "    </tr>\n",
       "    <tr>\n",
       "      <th>Activity</th>\n",
       "      <td>5758</td>\n",
       "      <td>1532</td>\n",
       "      <td>Surfing</td>\n",
       "      <td>971</td>\n",
       "      <td>NaN</td>\n",
       "      <td>NaN</td>\n",
       "      <td>NaN</td>\n",
       "      <td>NaN</td>\n",
       "      <td>NaN</td>\n",
       "      <td>NaN</td>\n",
       "      <td>NaN</td>\n",
       "    </tr>\n",
       "    <tr>\n",
       "      <th>Name</th>\n",
       "      <td>6092</td>\n",
       "      <td>5230</td>\n",
       "      <td>male</td>\n",
       "      <td>550</td>\n",
       "      <td>NaN</td>\n",
       "      <td>NaN</td>\n",
       "      <td>NaN</td>\n",
       "      <td>NaN</td>\n",
       "      <td>NaN</td>\n",
       "      <td>NaN</td>\n",
       "      <td>NaN</td>\n",
       "    </tr>\n",
       "    <tr>\n",
       "      <th>Sex</th>\n",
       "      <td>5737</td>\n",
       "      <td>6</td>\n",
       "      <td>M</td>\n",
       "      <td>5094</td>\n",
       "      <td>NaN</td>\n",
       "      <td>NaN</td>\n",
       "      <td>NaN</td>\n",
       "      <td>NaN</td>\n",
       "      <td>NaN</td>\n",
       "      <td>NaN</td>\n",
       "      <td>NaN</td>\n",
       "    </tr>\n",
       "    <tr>\n",
       "      <th>Age</th>\n",
       "      <td>3471</td>\n",
       "      <td>157</td>\n",
       "      <td>17</td>\n",
       "      <td>154</td>\n",
       "      <td>NaN</td>\n",
       "      <td>NaN</td>\n",
       "      <td>NaN</td>\n",
       "      <td>NaN</td>\n",
       "      <td>NaN</td>\n",
       "      <td>NaN</td>\n",
       "      <td>NaN</td>\n",
       "    </tr>\n",
       "    <tr>\n",
       "      <th>Injury</th>\n",
       "      <td>6274</td>\n",
       "      <td>3737</td>\n",
       "      <td>FATAL</td>\n",
       "      <td>802</td>\n",
       "      <td>NaN</td>\n",
       "      <td>NaN</td>\n",
       "      <td>NaN</td>\n",
       "      <td>NaN</td>\n",
       "      <td>NaN</td>\n",
       "      <td>NaN</td>\n",
       "      <td>NaN</td>\n",
       "    </tr>\n",
       "    <tr>\n",
       "      <th>Fatal (Y/N)</th>\n",
       "      <td>5763</td>\n",
       "      <td>8</td>\n",
       "      <td>N</td>\n",
       "      <td>4293</td>\n",
       "      <td>NaN</td>\n",
       "      <td>NaN</td>\n",
       "      <td>NaN</td>\n",
       "      <td>NaN</td>\n",
       "      <td>NaN</td>\n",
       "      <td>NaN</td>\n",
       "      <td>NaN</td>\n",
       "    </tr>\n",
       "    <tr>\n",
       "      <th>Time</th>\n",
       "      <td>2948</td>\n",
       "      <td>366</td>\n",
       "      <td>Afternoon</td>\n",
       "      <td>187</td>\n",
       "      <td>NaN</td>\n",
       "      <td>NaN</td>\n",
       "      <td>NaN</td>\n",
       "      <td>NaN</td>\n",
       "      <td>NaN</td>\n",
       "      <td>NaN</td>\n",
       "      <td>NaN</td>\n",
       "    </tr>\n",
       "    <tr>\n",
       "      <th>Species</th>\n",
       "      <td>3464</td>\n",
       "      <td>1549</td>\n",
       "      <td>White shark</td>\n",
       "      <td>163</td>\n",
       "      <td>NaN</td>\n",
       "      <td>NaN</td>\n",
       "      <td>NaN</td>\n",
       "      <td>NaN</td>\n",
       "      <td>NaN</td>\n",
       "      <td>NaN</td>\n",
       "      <td>NaN</td>\n",
       "    </tr>\n",
       "    <tr>\n",
       "      <th>Investigator or Source</th>\n",
       "      <td>6285</td>\n",
       "      <td>4969</td>\n",
       "      <td>C. Moore, GSAF</td>\n",
       "      <td>105</td>\n",
       "      <td>NaN</td>\n",
       "      <td>NaN</td>\n",
       "      <td>NaN</td>\n",
       "      <td>NaN</td>\n",
       "      <td>NaN</td>\n",
       "      <td>NaN</td>\n",
       "      <td>NaN</td>\n",
       "    </tr>\n",
       "    <tr>\n",
       "      <th>pdf</th>\n",
       "      <td>6302</td>\n",
       "      <td>6291</td>\n",
       "      <td>1923.00.00.a-NJ fisherman.pdf</td>\n",
       "      <td>2</td>\n",
       "      <td>NaN</td>\n",
       "      <td>NaN</td>\n",
       "      <td>NaN</td>\n",
       "      <td>NaN</td>\n",
       "      <td>NaN</td>\n",
       "      <td>NaN</td>\n",
       "      <td>NaN</td>\n",
       "    </tr>\n",
       "    <tr>\n",
       "      <th>href formula</th>\n",
       "      <td>6301</td>\n",
       "      <td>6290</td>\n",
       "      <td>http://sharkattackfile.net/spreadsheets/pdf_di...</td>\n",
       "      <td>2</td>\n",
       "      <td>NaN</td>\n",
       "      <td>NaN</td>\n",
       "      <td>NaN</td>\n",
       "      <td>NaN</td>\n",
       "      <td>NaN</td>\n",
       "      <td>NaN</td>\n",
       "      <td>NaN</td>\n",
       "    </tr>\n",
       "    <tr>\n",
       "      <th>href</th>\n",
       "      <td>6302</td>\n",
       "      <td>6285</td>\n",
       "      <td>http://sharkattackfile.net/spreadsheets/pdf_di...</td>\n",
       "      <td>4</td>\n",
       "      <td>NaN</td>\n",
       "      <td>NaN</td>\n",
       "      <td>NaN</td>\n",
       "      <td>NaN</td>\n",
       "      <td>NaN</td>\n",
       "      <td>NaN</td>\n",
       "      <td>NaN</td>\n",
       "    </tr>\n",
       "    <tr>\n",
       "      <th>Case Number.1</th>\n",
       "      <td>6302</td>\n",
       "      <td>6285</td>\n",
       "      <td>1920.00.00.b</td>\n",
       "      <td>2</td>\n",
       "      <td>NaN</td>\n",
       "      <td>NaN</td>\n",
       "      <td>NaN</td>\n",
       "      <td>NaN</td>\n",
       "      <td>NaN</td>\n",
       "      <td>NaN</td>\n",
       "      <td>NaN</td>\n",
       "    </tr>\n",
       "    <tr>\n",
       "      <th>Case Number.2</th>\n",
       "      <td>6302</td>\n",
       "      <td>6286</td>\n",
       "      <td>1920.00.00.b</td>\n",
       "      <td>2</td>\n",
       "      <td>NaN</td>\n",
       "      <td>NaN</td>\n",
       "      <td>NaN</td>\n",
       "      <td>NaN</td>\n",
       "      <td>NaN</td>\n",
       "      <td>NaN</td>\n",
       "      <td>NaN</td>\n",
       "    </tr>\n",
       "    <tr>\n",
       "      <th>original order</th>\n",
       "      <td>6309.0</td>\n",
       "      <td>NaN</td>\n",
       "      <td>NaN</td>\n",
       "      <td>NaN</td>\n",
       "      <td>3155.999683</td>\n",
       "      <td>1821.396206</td>\n",
       "      <td>2.0</td>\n",
       "      <td>1579.0</td>\n",
       "      <td>3156.0</td>\n",
       "      <td>4733.0</td>\n",
       "      <td>6310.0</td>\n",
       "    </tr>\n",
       "    <tr>\n",
       "      <th>Unnamed: 22</th>\n",
       "      <td>1</td>\n",
       "      <td>1</td>\n",
       "      <td>stopped here</td>\n",
       "      <td>1</td>\n",
       "      <td>NaN</td>\n",
       "      <td>NaN</td>\n",
       "      <td>NaN</td>\n",
       "      <td>NaN</td>\n",
       "      <td>NaN</td>\n",
       "      <td>NaN</td>\n",
       "      <td>NaN</td>\n",
       "    </tr>\n",
       "    <tr>\n",
       "      <th>Unnamed: 23</th>\n",
       "      <td>2</td>\n",
       "      <td>2</td>\n",
       "      <td>Teramo</td>\n",
       "      <td>1</td>\n",
       "      <td>NaN</td>\n",
       "      <td>NaN</td>\n",
       "      <td>NaN</td>\n",
       "      <td>NaN</td>\n",
       "      <td>NaN</td>\n",
       "      <td>NaN</td>\n",
       "      <td>NaN</td>\n",
       "    </tr>\n",
       "  </tbody>\n",
       "</table>\n",
       "</div>"
      ],
      "text/plain": [
       "                         count unique  \\\n",
       "Case Number               8702   6287   \n",
       "Date                      6302   5433   \n",
       "Year                    6300.0    NaN   \n",
       "Type                      6298      8   \n",
       "Country                   6252    212   \n",
       "Area                      5847    825   \n",
       "Location                  5762   4108   \n",
       "Activity                  5758   1532   \n",
       "Name                      6092   5230   \n",
       "Sex                       5737      6   \n",
       "Age                       3471    157   \n",
       "Injury                    6274   3737   \n",
       "Fatal (Y/N)               5763      8   \n",
       "Time                      2948    366   \n",
       "Species                   3464   1549   \n",
       "Investigator or Source    6285   4969   \n",
       "pdf                       6302   6291   \n",
       "href formula              6301   6290   \n",
       "href                      6302   6285   \n",
       "Case Number.1             6302   6285   \n",
       "Case Number.2             6302   6286   \n",
       "original order          6309.0    NaN   \n",
       "Unnamed: 22                  1      1   \n",
       "Unnamed: 23                  2      2   \n",
       "\n",
       "                                                                      top  \\\n",
       "Case Number                                                             0   \n",
       "Date                                                                 1957   \n",
       "Year                                                                  NaN   \n",
       "Type                                                           Unprovoked   \n",
       "Country                                                               USA   \n",
       "Area                                                              Florida   \n",
       "Location                                 New Smyrna Beach, Volusia County   \n",
       "Activity                                                          Surfing   \n",
       "Name                                                                 male   \n",
       "Sex                                                                     M   \n",
       "Age                                                                    17   \n",
       "Injury                                                              FATAL   \n",
       "Fatal (Y/N)                                                             N   \n",
       "Time                                                            Afternoon   \n",
       "Species                                                       White shark   \n",
       "Investigator or Source                                     C. Moore, GSAF   \n",
       "pdf                                         1923.00.00.a-NJ fisherman.pdf   \n",
       "href formula            http://sharkattackfile.net/spreadsheets/pdf_di...   \n",
       "href                    http://sharkattackfile.net/spreadsheets/pdf_di...   \n",
       "Case Number.1                                                1920.00.00.b   \n",
       "Case Number.2                                                1920.00.00.b   \n",
       "original order                                                        NaN   \n",
       "Unnamed: 22                                                  stopped here   \n",
       "Unnamed: 23                                                        Teramo   \n",
       "\n",
       "                        freq         mean          std  min     25%     50%  \\\n",
       "Case Number             2400          NaN          NaN  NaN     NaN     NaN   \n",
       "Date                      11          NaN          NaN  NaN     NaN     NaN   \n",
       "Year                     NaN  1927.272381   281.116308  0.0  1942.0  1977.0   \n",
       "Type                    4595          NaN          NaN  NaN     NaN     NaN   \n",
       "Country                 2229          NaN          NaN  NaN     NaN     NaN   \n",
       "Area                    1037          NaN          NaN  NaN     NaN     NaN   \n",
       "Location                 163          NaN          NaN  NaN     NaN     NaN   \n",
       "Activity                 971          NaN          NaN  NaN     NaN     NaN   \n",
       "Name                     550          NaN          NaN  NaN     NaN     NaN   \n",
       "Sex                     5094          NaN          NaN  NaN     NaN     NaN   \n",
       "Age                      154          NaN          NaN  NaN     NaN     NaN   \n",
       "Injury                   802          NaN          NaN  NaN     NaN     NaN   \n",
       "Fatal (Y/N)             4293          NaN          NaN  NaN     NaN     NaN   \n",
       "Time                     187          NaN          NaN  NaN     NaN     NaN   \n",
       "Species                  163          NaN          NaN  NaN     NaN     NaN   \n",
       "Investigator or Source   105          NaN          NaN  NaN     NaN     NaN   \n",
       "pdf                        2          NaN          NaN  NaN     NaN     NaN   \n",
       "href formula               2          NaN          NaN  NaN     NaN     NaN   \n",
       "href                       4          NaN          NaN  NaN     NaN     NaN   \n",
       "Case Number.1              2          NaN          NaN  NaN     NaN     NaN   \n",
       "Case Number.2              2          NaN          NaN  NaN     NaN     NaN   \n",
       "original order           NaN  3155.999683  1821.396206  2.0  1579.0  3156.0   \n",
       "Unnamed: 22                1          NaN          NaN  NaN     NaN     NaN   \n",
       "Unnamed: 23                1          NaN          NaN  NaN     NaN     NaN   \n",
       "\n",
       "                           75%     max  \n",
       "Case Number                NaN     NaN  \n",
       "Date                       NaN     NaN  \n",
       "Year                    2005.0  2018.0  \n",
       "Type                       NaN     NaN  \n",
       "Country                    NaN     NaN  \n",
       "Area                       NaN     NaN  \n",
       "Location                   NaN     NaN  \n",
       "Activity                   NaN     NaN  \n",
       "Name                       NaN     NaN  \n",
       "Sex                        NaN     NaN  \n",
       "Age                        NaN     NaN  \n",
       "Injury                     NaN     NaN  \n",
       "Fatal (Y/N)                NaN     NaN  \n",
       "Time                       NaN     NaN  \n",
       "Species                    NaN     NaN  \n",
       "Investigator or Source     NaN     NaN  \n",
       "pdf                        NaN     NaN  \n",
       "href formula               NaN     NaN  \n",
       "href                       NaN     NaN  \n",
       "Case Number.1              NaN     NaN  \n",
       "Case Number.2              NaN     NaN  \n",
       "original order          4733.0  6310.0  \n",
       "Unnamed: 22                NaN     NaN  \n",
       "Unnamed: 23                NaN     NaN  "
      ]
     },
     "execution_count": 275,
     "metadata": {},
     "output_type": "execute_result"
    }
   ],
   "source": [
    "##EXPLORAMOS EL ARCHIVO\n",
    "\n",
    "shape_original=shark.shape  ##Guardamos el tamaño original en una variable\n",
    "\n",
    "shark.columns  ##Vemos el nombre de las columnas\n",
    "\n",
    "shark.head()  ##Echamos un vistazo al csv\n",
    "\n",
    "shark.dtypes  ##Vemos los tipos de datos\n",
    "\n",
    "shark.info(memory_usage='deep')  #Vemos los tipos de datos y los no nulos\n",
    "\n",
    "shark.describe(include='all').T #Vemos la descripcion de la tabla de forma estadistica"
   ]
  },
  {
   "cell_type": "code",
   "execution_count": 276,
   "metadata": {},
   "outputs": [],
   "source": [
    "##COMENZAR A GESTIONAR EL FICHERO"
   ]
  },
  {
   "cell_type": "code",
   "execution_count": 277,
   "metadata": {},
   "outputs": [],
   "source": [
    "##Vamos a poner los nombres sin espacios y en minusculas\n",
    "\n",
    "shark_columns=DataCleaning.modificar_nombres_columnas(shark)\n",
    "\n",
    "shark.columns=shark_columns"
   ]
  },
  {
   "cell_type": "code",
   "execution_count": 278,
   "metadata": {},
   "outputs": [],
   "source": [
    "#Primero vamos a eliminar las columnas de unnamed ya que no nos dan informacion\n",
    "shark.drop(columns=['unnamed:22', 'unnamed:23'], inplace=True)"
   ]
  },
  {
   "cell_type": "code",
   "execution_count": 279,
   "metadata": {},
   "outputs": [],
   "source": [
    "#Vamos a limpiar los duplicados\n",
    "shark.drop_duplicates(inplace=True)"
   ]
  },
  {
   "cell_type": "code",
   "execution_count": 280,
   "metadata": {},
   "outputs": [
    {
     "data": {
      "text/plain": [
       "(6312, 22)"
      ]
     },
     "execution_count": 280,
     "metadata": {},
     "output_type": "execute_result"
    }
   ],
   "source": [
    "#nuevo shape (6311, 22)\n",
    "shark.shape"
   ]
  },
  {
   "cell_type": "code",
   "execution_count": 281,
   "metadata": {},
   "outputs": [
    {
     "data": {
      "text/plain": [
       "0"
      ]
     },
     "execution_count": 281,
     "metadata": {},
     "output_type": "execute_result"
    }
   ],
   "source": [
    "##COLUMNA DATE\n",
    "#Creamos nueva copia\n",
    "sharkv2=shark.copy()\n",
    "\n",
    "#limpiamos los nulos\n",
    "sharkv2.date\n",
    "sharkv2.date.isna().sum()\n",
    "sharkv2.date.fillna(value='unkwnow', inplace=True)\n",
    "sharkv2.date.isna().sum()\n",
    "\n",
    "\n"
   ]
  },
  {
   "cell_type": "code",
   "execution_count": 282,
   "metadata": {},
   "outputs": [
    {
     "data": {
      "text/plain": [
       "5434"
      ]
     },
     "execution_count": 282,
     "metadata": {},
     "output_type": "execute_result"
    }
   ],
   "source": [
    "#Vemos los valores unicos\n",
    "\n",
    "sharkv2.date.nunique()\n",
    "\n",
    "#hay 5434"
   ]
  },
  {
   "cell_type": "code",
   "execution_count": 283,
   "metadata": {},
   "outputs": [
    {
     "data": {
      "text/plain": [
       "249"
      ]
     },
     "execution_count": 283,
     "metadata": {},
     "output_type": "execute_result"
    }
   ],
   "source": [
    "#Pasamos una función para limpiar y dejar solamente los años\n",
    "def date(x):\n",
    "    x=str(x).lower().strip()\n",
    "    key='(\\d{4}$)'\n",
    "    fecha=re.findall(key,x)\n",
    "    \n",
    "    \n",
    "    if x=='unkwnow':\n",
    "        return 'unkwnow'\n",
    "    elif re.findall(key,x):\n",
    "        return \"\".join(fecha)\n",
    "    elif len(fecha)==0:\n",
    "        return 'unkwnow'\n",
    "    \n",
    "\n",
    "sharkv2.date=sharkv2.date.apply(date)\n",
    "\n",
    "sharkv2.date.head()\n",
    "\n",
    "sharkv2.date.nunique()\n",
    "\n",
    "#Tras pasar la función nos quedan 249\n",
    "\n",
    "    "
   ]
  },
  {
   "cell_type": "code",
   "execution_count": 284,
   "metadata": {},
   "outputs": [],
   "source": [
    "##COLUMNA CASENUMBER"
   ]
  },
  {
   "cell_type": "code",
   "execution_count": 285,
   "metadata": {},
   "outputs": [
    {
     "data": {
      "text/plain": [
       "0"
      ]
     },
     "execution_count": 285,
     "metadata": {},
     "output_type": "execute_result"
    }
   ],
   "source": [
    "sharkv2.casenumber[(shark.casenumber.notna()) & (shark.casenumber!='0')]\n",
    "\n",
    "sharkv2.casenumber.nunique()  ##tenemos 6287 valores únicos\n",
    "\n",
    "sharkv2.casenumber.isna().sum()  #tenemos dos valores nulos que limpiamos\n",
    "\n",
    "sharkv2.casenumber.fillna(value='unkwnow', inplace=True)\n",
    "\n",
    "sharkv2.casenumber.isna().sum()"
   ]
  },
  {
   "cell_type": "code",
   "execution_count": 286,
   "metadata": {},
   "outputs": [],
   "source": [
    "#Hacemos una funcion que sustituye las fechas extrañas por 0000.00.00 para poder pasar luego\n",
    "def limpiar_fecha(x):\n",
    "    x=str(x)\n",
    "    contador=0\n",
    "    \n",
    "    num=re.findall('\\d+.\\d+.\\d+', x)\n",
    "    num=\"\".join(num)\n",
    "    \n",
    "    if num=='':\n",
    "        contador=0\n",
    "    elif num in x:\n",
    "        contador+=1\n",
    "\n",
    "    if contador==1:\n",
    "        return str(num)\n",
    "    elif contador==0:\n",
    "        return '0000.00.00'\n",
    "    \n",
    "sharkv2.casenumber=sharkv2.casenumber.apply(limpiar_fecha)"
   ]
  },
  {
   "cell_type": "code",
   "execution_count": 287,
   "metadata": {},
   "outputs": [],
   "source": [
    "sharkv2.casenumber.nunique()  #Ahora tenemos valores unicos 5209 le hemos bajado casi 1000\n",
    "\n",
    "sharkv2.casenumber.value_counts().head()\n",
    "\n",
    "sharkv2.casenumber.sort_values(ascending=False)  #Dejamos colocadas las fechas\n",
    "\n",
    "#Modificamos las columnas de casenumber que son practicamente iguales como esta\n",
    "\n",
    "sharkv2['casenumber.1']=sharkv2.casenumber\n",
    "sharkv2['casenumber.2']=sharkv2.casenumber\n",
    "\n"
   ]
  },
  {
   "cell_type": "code",
   "execution_count": 288,
   "metadata": {},
   "outputs": [
    {
     "data": {
      "text/plain": [
       "unkwnow    2841\n",
       "17          154\n",
       "18          150\n",
       "19          142\n",
       "20          141\n",
       "Name: age, dtype: int64"
      ]
     },
     "execution_count": 288,
     "metadata": {},
     "output_type": "execute_result"
    }
   ],
   "source": [
    "##COLUMNA EDAD\n",
    "\n",
    "#Primero limpiamos los nulos que hay más de 2000\n",
    "sharkv2.age.isna().sum()\n",
    "\n",
    "sharkv2.age.fillna(value='unkwnow', inplace=True)\n",
    "\n",
    "sharkv2.age.nunique()  #contamos los valores únicos que son 157\n",
    "\n",
    "sharkv2.age.value_counts().head()"
   ]
  },
  {
   "cell_type": "code",
   "execution_count": 289,
   "metadata": {},
   "outputs": [],
   "source": [
    "#Creamos una funcion para limpiar la edad\n",
    "\n",
    "from statistics import mean\n",
    "def edad(x):\n",
    "    x = str(x).lower()\n",
    "    num=re.findall('\\d+', x)[:5]\n",
    "    res = [eval(i) for i in num]\n",
    "    if num:\n",
    "        return mean(res)\n",
    "    elif \"teen\" in x:\n",
    "        return 15.5\n",
    "    elif \"young\" in x:\n",
    "        return 18.5\n",
    "    elif \"adult\" in x:\n",
    "        return 49\n",
    "    elif \"elderly\" in x:\n",
    "        return 70\n",
    "    elif \"middle\" in x :\n",
    "        return 50\n",
    "    elif \"18months\" in x:\n",
    "        return 1.5\n",
    "    elif \"9months\" in x:\n",
    "        return 0.75\n",
    "    elif \"2to3months\" in x:\n",
    "        return 0.2\n",
    "    else:\n",
    "        return 0\n",
    "    \n",
    "sharkv2.age=sharkv2.age.apply(edad)\n",
    "\n",
    "    \n"
   ]
  },
  {
   "cell_type": "code",
   "execution_count": 290,
   "metadata": {},
   "outputs": [
    {
     "data": {
      "text/plain": [
       "0.0     2849\n",
       "17.0     155\n",
       "20.0     152\n",
       "18.0     151\n",
       "19.0     145\n",
       "Name: age, dtype: int64"
      ]
     },
     "execution_count": 290,
     "metadata": {},
     "output_type": "execute_result"
    }
   ],
   "source": [
    "\n",
    "sharkv2.age.nunique()  #Hemos pasado de 157 valores unicos a 82\n",
    "\n",
    "sharkv2.age.value_counts().head()"
   ]
  },
  {
   "cell_type": "code",
   "execution_count": 291,
   "metadata": {},
   "outputs": [
    {
     "data": {
      "text/plain": [
       "8"
      ]
     },
     "execution_count": 291,
     "metadata": {},
     "output_type": "execute_result"
    }
   ],
   "source": [
    "#COLUMNA TYPE\n",
    "sharkv2.type.value_counts()\n",
    "\n",
    "sharkv2.type.nunique()   #Hay 8 valores únicos"
   ]
  },
  {
   "cell_type": "code",
   "execution_count": 292,
   "metadata": {},
   "outputs": [],
   "source": [
    "sharkv2.type.isna().sum()  #Hay 14 valores nulos que quitamos\n",
    "\n",
    "sharkv2.type.fillna(value='unkwnow', inplace=True)"
   ]
  },
  {
   "cell_type": "code",
   "execution_count": 293,
   "metadata": {},
   "outputs": [],
   "source": [
    "#Quitando los valores Boat y Boatomg por Boat\n",
    "\n",
    "def tipo_ataque(x):\n",
    "    if x =='Boating':\n",
    "        return'Boat'\n",
    "    elif x =='Boatomg':\n",
    "        return'Boat'\n",
    "    else:\n",
    "        return x\n",
    "    \n",
    "sharkv2.type=sharkv2.type.apply(tipo_ataque)"
   ]
  },
  {
   "cell_type": "code",
   "execution_count": 294,
   "metadata": {},
   "outputs": [
    {
     "data": {
      "text/plain": [
       "7"
      ]
     },
     "execution_count": 294,
     "metadata": {},
     "output_type": "execute_result"
    }
   ],
   "source": [
    "sharkv2.type.value_counts()\n",
    "\n",
    "sharkv2.type.nunique()  #En este caso no hemos reducido mucho los valores hemos pasado a 7\n"
   ]
  },
  {
   "cell_type": "code",
   "execution_count": 295,
   "metadata": {},
   "outputs": [],
   "source": [
    "##COLUMNA YEAR\n",
    "\n",
    "sharkv2.year.isna().sum()  #hay 12 valores nulos que los modificamos\n",
    "\n",
    "sharkv2.year.fillna(value='unkwnow', inplace=True)\n"
   ]
  },
  {
   "cell_type": "code",
   "execution_count": 296,
   "metadata": {},
   "outputs": [
    {
     "data": {
      "text/html": [
       "<div>\n",
       "<style scoped>\n",
       "    .dataframe tbody tr th:only-of-type {\n",
       "        vertical-align: middle;\n",
       "    }\n",
       "\n",
       "    .dataframe tbody tr th {\n",
       "        vertical-align: top;\n",
       "    }\n",
       "\n",
       "    .dataframe thead th {\n",
       "        text-align: right;\n",
       "    }\n",
       "</style>\n",
       "<table border=\"1\" class=\"dataframe\">\n",
       "  <thead>\n",
       "    <tr style=\"text-align: right;\">\n",
       "      <th></th>\n",
       "      <th>date</th>\n",
       "      <th>year</th>\n",
       "    </tr>\n",
       "  </thead>\n",
       "  <tbody>\n",
       "    <tr>\n",
       "      <th>0</th>\n",
       "      <td>2018</td>\n",
       "      <td>2018.0</td>\n",
       "    </tr>\n",
       "    <tr>\n",
       "      <th>1</th>\n",
       "      <td>2018</td>\n",
       "      <td>2018.0</td>\n",
       "    </tr>\n",
       "    <tr>\n",
       "      <th>2</th>\n",
       "      <td>2018</td>\n",
       "      <td>2018.0</td>\n",
       "    </tr>\n",
       "    <tr>\n",
       "      <th>3</th>\n",
       "      <td>2018</td>\n",
       "      <td>2018.0</td>\n",
       "    </tr>\n",
       "    <tr>\n",
       "      <th>4</th>\n",
       "      <td>2018</td>\n",
       "      <td>2018.0</td>\n",
       "    </tr>\n",
       "  </tbody>\n",
       "</table>\n",
       "</div>"
      ],
      "text/plain": [
       "   date    year\n",
       "0  2018  2018.0\n",
       "1  2018  2018.0\n",
       "2  2018  2018.0\n",
       "3  2018  2018.0\n",
       "4  2018  2018.0"
      ]
     },
     "execution_count": 296,
     "metadata": {},
     "output_type": "execute_result"
    }
   ],
   "source": [
    "sharkv2.year.head()\n",
    "\n",
    "sharkv2[['date','year']].head()"
   ]
  },
  {
   "cell_type": "code",
   "execution_count": 297,
   "metadata": {},
   "outputs": [],
   "source": [
    "#Pasamos una función y limpiamos year\n",
    "\n",
    "def limpiaryear(x):\n",
    "    x=str(x)\n",
    "    \n",
    "    key='(^\\d{4})'\n",
    "    year=re.findall(key,x)\n",
    "    if x=='unkwnow':\n",
    "        return 'unkwnow'\n",
    "    elif re.findall(key,x):\n",
    "        return \"\".join(year)\n",
    "    else:\n",
    "        return 'unkwnow'\n",
    "    \n",
    "sharkv3=sharkv2.copy()\n",
    "\n",
    "sharkv3.year=sharkv3.year.apply(limpiaryear)\n",
    "\n",
    "\n",
    "\n"
   ]
  },
  {
   "cell_type": "code",
   "execution_count": 298,
   "metadata": {},
   "outputs": [
    {
     "data": {
      "text/plain": [
       "213"
      ]
     },
     "execution_count": 298,
     "metadata": {},
     "output_type": "execute_result"
    }
   ],
   "source": [
    "##COLUMNA COUNTRY\n",
    "\n",
    "#En este caso hacemos un mantenimiento básico ya que hay ataques de tiburones que ni si \n",
    "# quiera se pueden asociar a un pais\n",
    "\n",
    "#Limpiamos los nan\n",
    "\n",
    "sharkv3.country.isna().sum()  ##hay 60 casos\n",
    "sharkv3.country.fillna(value='unkwnow', inplace=True)\n",
    "\n",
    "#contamos los valores unicos\n",
    "sharkv3.country.value_counts()\n",
    "sharkv3.country.nunique()  #Salen 213 valores\n",
    "\n",
    "\n"
   ]
  },
  {
   "cell_type": "code",
   "execution_count": 299,
   "metadata": {},
   "outputs": [],
   "source": [
    "#Ponemos todo en mayusculas y quitamos los interrogantes\n",
    "\n",
    "sharkv3.country=sharkv3.country.str.upper()\n",
    "\n",
    "sharkv3.country=sharkv3.country.str.replace(\"?\",\"\")"
   ]
  },
  {
   "cell_type": "code",
   "execution_count": 300,
   "metadata": {},
   "outputs": [],
   "source": [
    "#COLUMNA AREA\n",
    "#Hacemos un poco lo mismo que con COUNTRY\n",
    "#Primero los nulos\n",
    "sharkv3.area.isna().sum()  #hay 465\n",
    "sharkv3.area.fillna(value='unkwnow', inplace=True)\n"
   ]
  },
  {
   "cell_type": "code",
   "execution_count": 301,
   "metadata": {},
   "outputs": [],
   "source": [
    "##En este caso vamos a gestionar dos valores que aparecen con caracteres extraños nada más de forma \n",
    "#dirercta ya que es complicado establecer regiones geográficas al haber ataques en alta mar\n",
    "#'d\\x92Étang-Salé'\n",
    "#'Vava\\x92u'\n",
    "\n",
    "shark.iloc[2356]='Vavau'\n",
    "shark.iloc[2362]='Vavau'\n",
    "shark.iloc[2515]='Vavau'\n",
    "\n",
    "shark.iloc[447]='dÉtang-Salé'\n",
    "shark.iloc[607]='dÉtang-Salé'\n",
    "\n"
   ]
  },
  {
   "cell_type": "code",
   "execution_count": 302,
   "metadata": {},
   "outputs": [],
   "source": [
    "##COLUMNA LOCATION\n",
    "#La gestionamos como las otras dos geográficas\n",
    "sharkv3.location.isna().sum()  #hay 550\n",
    "sharkv3.location.fillna(value='unkwnow', inplace=True)"
   ]
  },
  {
   "cell_type": "code",
   "execution_count": 303,
   "metadata": {},
   "outputs": [],
   "source": [
    "##COLUMNA ACTIVITY\n",
    "#Vemos si tiene nulos y los limpiamos\n",
    "\n",
    "sharkv3.activity.isna().sum()  #tiene 554\n",
    "sharkv3.activity.fillna(value='unkwnow', inplace=True)\n"
   ]
  },
  {
   "cell_type": "code",
   "execution_count": 304,
   "metadata": {},
   "outputs": [],
   "source": [
    "#Cogemos cierto patron de actividades y lo pasamos por una función para que cambie los nombres,\n",
    "# el resto los consideramos como otros"
   ]
  },
  {
   "cell_type": "code",
   "execution_count": 305,
   "metadata": {},
   "outputs": [],
   "source": [
    "def actividad(x):\n",
    "    dicc_actividades = {\"Fishing\":re.search(\".*[Ff](ishing|ISHING).*\",str(x)),\n",
    "                    \"Swimming\":re.search(\".*[Ss](wimming|WIMMing).*\",str(x)),\n",
    "                    \"Kite\":re.search(\".*[Kk](ite|ITE).*\",str(x)),\n",
    "                    \"Walking\":re.search(\".*[Ww](alking|ALKING).*\",str(x)),\n",
    "                    \"Boogie Board\":re.search(\".*[Bb](oogie|OOGIE).*\",str(x)),\n",
    "                    \"Body Boarding\":re.search(\".*[Bb](ody|ODY).*\",str(x)),\n",
    "                    \"Wind Surfing\":re.search(\".*[wW](ind|IND).*\",str(x)),\n",
    "                    \"Boat\":re.search(\".*[Bb](oat|OAT).*\",str(x)),\n",
    "                    \"Interact with sharks\":re.search(\".*[Ss](hark|HARK).*\",str(x)),\n",
    "                    \"Diving\":re.search(\".*[Dd](iving|IVING).*\",str(x)),\n",
    "                    \"Standing in water\":re.search(\".*[Ss](tand|TAND).*\",str(x)),\n",
    "                    \"Paddling\":re.search(\".*[Pp](addl|ADDL).*\",str(x)),\n",
    "                    \"Bathing\":re.search(\".*[Bb](athing|ATHING).*\",str(x)),\n",
    "                    \"OverBoard\":re.search(\".*[Oo](verb|VERB).*\",str(x)),\n",
    "                    \"Bathing\":re.search(\".*[Bb](athing|ATHING).*\",str(x)),\n",
    "                    \"Floating\":re.search(\".*[Ff](loat|LOAT).*\",str(x)),\n",
    "                    \"Jumping\":re.search(\".*[Jj](ump|UMP).*\",str(x))}\n",
    "    for key,values in dicc_actividades.items():\n",
    "        if values:\n",
    "            return key\n",
    "    return \"other\"\n",
    "\n",
    "sharkv3.activity=sharkv3.activity.apply(actividad)"
   ]
  },
  {
   "cell_type": "code",
   "execution_count": 306,
   "metadata": {},
   "outputs": [
    {
     "data": {
      "text/plain": [
       "17"
      ]
     },
     "execution_count": 306,
     "metadata": {},
     "output_type": "execute_result"
    }
   ],
   "source": [
    "sharkv2.activity.nunique()  #habian 1532\n",
    "sharkv3.activity.nunique()  #quedan 17 actividades"
   ]
  },
  {
   "cell_type": "code",
   "execution_count": 307,
   "metadata": {},
   "outputs": [
    {
     "data": {
      "text/plain": [
       "5231"
      ]
     },
     "execution_count": 307,
     "metadata": {},
     "output_type": "execute_result"
    }
   ],
   "source": [
    "##COLUMNA NAME\n",
    "#Como siempre limpiamos nulos\n",
    "sharkv3.name.isna().sum()  ##220\n",
    "sharkv3.name.fillna(value='unkwnow', inplace=True)\n",
    "\n",
    "sharkv3.name.nunique()  #5231\n"
   ]
  },
  {
   "cell_type": "code",
   "execution_count": 308,
   "metadata": {},
   "outputs": [],
   "source": [
    "#Esta columna no tiene mucha relevancia para los estudios pero intetamos limpiarla de la mejor forma posible\n",
    "def name(x):\n",
    "    x=x.lower()\n",
    "    \n",
    "    if re.findall('male',x):\n",
    "        return 'unkonwn'\n",
    "    elif x=='':\n",
    "        return 'unkonwn'\n",
    "    elif x==None:\n",
    "        return 'unkonwn'\n",
    "    elif 'marine' in x:\n",
    "        return 'unkonwn'\n",
    "    elif  'girl' in x:\n",
    "        return 'unkonwn'\n",
    "    elif 'boy' in x:\n",
    "        return 'unkonwn'\n",
    "    elif '_' in x:\n",
    "        return 'unkonwn'\n",
    "    elif '..' in x:\n",
    "        return 'unkonwn'\n",
    "    elif 'people' in x:\n",
    "        return 'unkonwn'\n",
    "    elif 'teacher' in x:\n",
    "        return 'unkonwn'\n",
    "    elif x=='':\n",
    "        return 'unkonwn'\n",
    "    elif 'citizen' in x:\n",
    "        return 'unkonwn'\n",
    "    elif '*' in x:\n",
    "        return 'unkonwn'\n",
    "    elif 'anonymus' in x:\n",
    "        return 'unkonwn'\n",
    "    elif 'japanese' in x:\n",
    "        return 'unkonwn'\n",
    "    elif re.findall('^\\d+', x):\n",
    "        return 'unkonwn'\n",
    "    else:\n",
    "        return x\n",
    "    \n",
    "sharkv3.name=sharkv3.name.apply(name)"
   ]
  },
  {
   "cell_type": "code",
   "execution_count": 309,
   "metadata": {},
   "outputs": [
    {
     "data": {
      "text/plain": [
       "4863"
      ]
     },
     "execution_count": 309,
     "metadata": {},
     "output_type": "execute_result"
    }
   ],
   "source": [
    "sharkv3.name.nunique()  #4863... unos 400 menos"
   ]
  },
  {
   "cell_type": "code",
   "execution_count": 310,
   "metadata": {},
   "outputs": [
    {
     "data": {
      "text/plain": [
       "0"
      ]
     },
     "execution_count": 310,
     "metadata": {},
     "output_type": "execute_result"
    }
   ],
   "source": [
    "##COLUMNA SEXO\n",
    "#limpiamos los nulos\n",
    "sharkv3.sex.isna().sum()  #575\n",
    "sharkv3.sex.fillna(value='unkwnow', inplace=True)\n",
    "sharkv3.sex.isna().sum()"
   ]
  },
  {
   "cell_type": "code",
   "execution_count": 311,
   "metadata": {},
   "outputs": [],
   "source": [
    "#Al ser poco los valores erroneos los modificamos directamente\n",
    "\n",
    "sharkv3[sharkv3.sex=='M ']='M'\n",
    "sharkv3[sharkv3.sex=='N']='M'\n",
    "sharkv3[sharkv3.sex=='.']='unkwnow'\n",
    "sharkv3[sharkv3.sex=='lli']='unkwnow'"
   ]
  },
  {
   "cell_type": "code",
   "execution_count": 312,
   "metadata": {},
   "outputs": [
    {
     "data": {
      "text/plain": [
       "array(['F', 'M', 'unkwnow'], dtype=object)"
      ]
     },
     "execution_count": 312,
     "metadata": {},
     "output_type": "execute_result"
    }
   ],
   "source": [
    "sharkv2.sex.nunique()  #6\n",
    "sharkv3.sex.unique()  #3"
   ]
  },
  {
   "cell_type": "code",
   "execution_count": 313,
   "metadata": {},
   "outputs": [],
   "source": [
    "##COLUMNA INJURY\n",
    "#Limpiamos nulos\n",
    "sharkv3.injury.isna().sum()  #38\n",
    "sharkv3.injury.fillna(value='unkwnow', inplace=True)\n",
    "\n"
   ]
  },
  {
   "cell_type": "code",
   "execution_count": 314,
   "metadata": {},
   "outputs": [
    {
     "data": {
      "text/plain": [
       "0    No injury to occupant, outrigger canoe and pad...\n",
       "1                           Minor injury to left thigh\n",
       "2         Injury to left lower leg from surfboard skeg\n",
       "3                            Minor injury to lower leg\n",
       "4    Lacerations to leg & hand shark PROVOKED INCIDENT\n",
       "Name: injury, dtype: object"
      ]
     },
     "execution_count": 314,
     "metadata": {},
     "output_type": "execute_result"
    }
   ],
   "source": [
    "sharkv3.injury.nunique()  #3734\n",
    "\n",
    "sharkv3.injury.head()"
   ]
  },
  {
   "cell_type": "code",
   "execution_count": 315,
   "metadata": {},
   "outputs": [],
   "source": [
    "#Tomo la decisión de si hay un texto escrito y no han puesto fatal lo tomo como no mortal y se modifica\n",
    "\n",
    "sharkv4=sharkv3.copy()\n",
    "def injury(x):\n",
    "    \n",
    "    x=str(x.lower())\n",
    "    if \"fatal\" in x:\n",
    "        return 'fatal'\n",
    "    elif \"No injury\" or 'no injury' in x:\n",
    "        return 'no injury'\n",
    "    elif 'injury' in x:\n",
    "        return 'injury'\n",
    "    elif 'unkwnow' in x:\n",
    "        return 'unkwnow'\n",
    "    else:\n",
    "        return 'injury'\n",
    "    \n",
    "sharkv4.injury=sharkv4.injury.apply(injury)"
   ]
  },
  {
   "cell_type": "code",
   "execution_count": 316,
   "metadata": {},
   "outputs": [
    {
     "data": {
      "text/plain": [
       "2"
      ]
     },
     "execution_count": 316,
     "metadata": {},
     "output_type": "execute_result"
    }
   ],
   "source": [
    "sharkv4.injury.nunique()  #lo reducimos a 2 valores INJURY O FATAL"
   ]
  },
  {
   "cell_type": "code",
   "execution_count": 317,
   "metadata": {},
   "outputs": [],
   "source": [
    "##COLUMNA FATAL\n",
    "#En este caso primero igualamos donde hay algun dato en injury ponemos N en fatal\n",
    "sharkv4['fatal(y/n)'][sharkv4.injury=='injury']='N'"
   ]
  },
  {
   "cell_type": "code",
   "execution_count": 318,
   "metadata": {},
   "outputs": [
    {
     "data": {
      "text/plain": [
       "549"
      ]
     },
     "execution_count": 318,
     "metadata": {},
     "output_type": "execute_result"
    }
   ],
   "source": [
    "#Luego limpiamos los nulos\n",
    "sharkv4['fatal(y/n)'].isna().sum()  #no hay nulos"
   ]
  },
  {
   "cell_type": "code",
   "execution_count": 319,
   "metadata": {},
   "outputs": [
    {
     "data": {
      "text/plain": [
       "array(['N', 'Y', nan, 'M', 'UNKNOWN', '2017', 'unkwnow', ' N', 'N ', 'y'],\n",
       "      dtype=object)"
      ]
     },
     "execution_count": 319,
     "metadata": {},
     "output_type": "execute_result"
    }
   ],
   "source": [
    "sharkv4['fatal(y/n)'].unique()"
   ]
  },
  {
   "cell_type": "code",
   "execution_count": 320,
   "metadata": {},
   "outputs": [],
   "source": [
    "#Al tener que modificar en pocos casos los hacemos directamente\n",
    "\n",
    "sharkv4[sharkv4['fatal(y/n)']=='UNKNOWN']='UNKWNOW'\n",
    "sharkv4[sharkv4['fatal(y/n)']=='M']='N'\n",
    "sharkv4[sharkv4['fatal(y/n)']=='2017']='UNKWNOW'"
   ]
  },
  {
   "cell_type": "code",
   "execution_count": 323,
   "metadata": {},
   "outputs": [
    {
     "data": {
      "text/plain": [
       "0"
      ]
     },
     "execution_count": 323,
     "metadata": {},
     "output_type": "execute_result"
    }
   ],
   "source": [
    "#COLUMNA TIME\n",
    "#gestionamos los nulos\n",
    "sharkv4.time.isna().sum()  #3296\n",
    "sharkv4.time.fillna(value='unkwnow', inplace=True)\n",
    "sharkv4.time.isna().sum()\n"
   ]
  },
  {
   "cell_type": "code",
   "execution_count": 324,
   "metadata": {},
   "outputs": [],
   "source": [
    "#limpiamos la columna primero generamos una funcion para quitarlos fallos principales\n",
    "\n",
    "def time(x):\n",
    "    \n",
    "    x=str(x.lower())\n",
    "    \n",
    "    hora=re.findall('\\d+[a-z]\\d+',x)\n",
    "    \n",
    "    if x=='unkwnow':\n",
    "        return x\n",
    "    elif re.findall('\\d+[a-z]\\d+',x):\n",
    "        return \"\".join(hora[0])\n",
    "    elif 'morning' in x:\n",
    "        return '10:00'\n",
    "    elif 'midday' in x:\n",
    "        return '12:00'\n",
    "    elif 'midnight' in x:\n",
    "        return '24:00'\n",
    "    elif 'afternoon' or 'after noon' in x:\n",
    "        return '17:00'\n",
    "    elif 'evening'  in x:\n",
    "        return '19:00'\n",
    "    elif 'night' in x:\n",
    "        return '21:00'\n",
    "    else:\n",
    "        return x\n",
    "    \n",
    "sharkv4.time=sharkv4.time.apply(time)"
   ]
  },
  {
   "cell_type": "code",
   "execution_count": 328,
   "metadata": {},
   "outputs": [
    {
     "data": {
      "text/plain": [
       "unkwnow    3370\n",
       "17:00       427\n",
       "10:00       135\n",
       "11h00       131\n",
       "12h00       113\n",
       "Name: time, dtype: int64"
      ]
     },
     "execution_count": 328,
     "metadata": {},
     "output_type": "execute_result"
    }
   ],
   "source": [
    "sharkv3.time.nunique()  #368\n",
    "sharkv4.time.nunique()  #254\n",
    "sharkv4.time.value_counts().head()"
   ]
  },
  {
   "cell_type": "code",
   "execution_count": 330,
   "metadata": {},
   "outputs": [],
   "source": [
    "#Hacemos otra función para igualar los datos con dos puntos y dejamos el resto de datos como 'unkwnow\n",
    "\n",
    "def dospunto(x):\n",
    "    hora=\"\"\n",
    "    \n",
    "    if x=='unkwnow':\n",
    "        return 'unkwnow'\n",
    "    \n",
    "    elif len(x)<3:\n",
    "        return 'unkwnow'\n",
    "    \n",
    "    elif len(x)>6:\n",
    "        if \"am\" or \"a.m.\" or 'pm' or 'p.m.':\n",
    "            x.replace('am','')\n",
    "            x.replace('a.m.','')\n",
    "            x.replace('pm','')\n",
    "            x.replace('p.m.','')\n",
    "            \n",
    "    elif len(x)>10:\n",
    "        return 'unkwnow'\n",
    "    \n",
    "    elif len(x)==4:\n",
    "        for n in range(len(x)):\n",
    "            if n==2:\n",
    "                hora+=':'+x[n]\n",
    "            else:\n",
    "                hora+=x[n]\n",
    "        return hora\n",
    "    \n",
    "    elif len(x)==5:\n",
    "        \n",
    "        for num in x:\n",
    "            \n",
    "            if num  in '1,2,3,4,5,6,7,8,9,0':\n",
    "                hora+=num\n",
    "                \n",
    "        \n",
    "            elif num not in '1,2,3,4,5,6,7,8,9,0':\n",
    "                hora+=':'\n",
    "                \n",
    "        \n",
    "    else:\n",
    "        return x\n",
    "    \n",
    "    return hora\n",
    "\n",
    "sharkv4.time=sharkv4.time.apply(dospunto)"
   ]
  },
  {
   "cell_type": "code",
   "execution_count": 333,
   "metadata": {},
   "outputs": [
    {
     "data": {
      "text/plain": [
       "0      18:00\n",
       "1      14:00\n",
       "2      07:45\n",
       "3    unkwnow\n",
       "4    unkwnow\n",
       "Name: time, dtype: object"
      ]
     },
     "execution_count": 333,
     "metadata": {},
     "output_type": "execute_result"
    }
   ],
   "source": [
    "sharkv4.time.nunique()  #249\n",
    "\n",
    "sharkv4.time.head()"
   ]
  },
  {
   "cell_type": "code",
   "execution_count": 335,
   "metadata": {},
   "outputs": [
    {
     "data": {
      "text/plain": [
       "0"
      ]
     },
     "execution_count": 335,
     "metadata": {},
     "output_type": "execute_result"
    }
   ],
   "source": [
    "##COLUMNA INVESTIGATOR OR SOURCE\n",
    "#Simplemente limpiamos duplicados no es una columna que nos interese\n",
    "\n",
    "sharkv4.investigatororsource.isna().sum()  ##26\n",
    "\n",
    "sharkv4.investigatororsource.fillna(value='unkwnow', inplace=True)\n",
    "\n",
    "sharkv4.investigatororsource.isna().sum()"
   ]
  },
  {
   "cell_type": "code",
   "execution_count": 337,
   "metadata": {},
   "outputs": [
    {
     "data": {
      "text/plain": [
       "0"
      ]
     },
     "execution_count": 337,
     "metadata": {},
     "output_type": "execute_result"
    }
   ],
   "source": [
    "##COLUMNA SPECIES\n",
    "#Limpiamos los nulos\n",
    "\n",
    "sharkv4.species.isna().sum()  #2793\n",
    "\n",
    "sharkv4.species.fillna(value='unkwnow', inplace=True)\n",
    "\n",
    "sharkv4.species.isna().sum() "
   ]
  },
  {
   "cell_type": "code",
   "execution_count": 339,
   "metadata": {},
   "outputs": [],
   "source": [
    "#Pasamos una primera funcion para dejar solo las palabras con shark y la que hay delante\n",
    "\n",
    "sharkv5=sharkv4.copy()\n",
    "\n",
    "def species(x):\n",
    "    \n",
    "    x=str(x.lower())\n",
    "    keyw='([a-zA-Z]+\\sshark)'\n",
    "    \n",
    "    shark=re.findall(keyw,x)\n",
    "    \n",
    "    if re.findall(keyw,x):\n",
    "        return \"\".join(shark)\n",
    "    else:\n",
    "        return 'unkwnow'\n",
    "    \n",
    "sharkv5.species=sharkv5.species.apply(species)"
   ]
  },
  {
   "cell_type": "code",
   "execution_count": 343,
   "metadata": {},
   "outputs": [
    {
     "data": {
      "text/plain": [
       "unkwnow        4136\n",
       "white shark     613\n",
       "tiger shark     256\n",
       "bull shark      170\n",
       "m shark         137\n",
       "Name: species, dtype: int64"
      ]
     },
     "execution_count": 343,
     "metadata": {},
     "output_type": "execute_result"
    }
   ],
   "source": [
    "sharkv4.species.nunique()  #1544\n",
    "sharkv5.species.nunique() #133\n",
    "sharkv5.species.value_counts().head()"
   ]
  },
  {
   "cell_type": "code",
   "execution_count": 351,
   "metadata": {},
   "outputs": [
    {
     "data": {
      "text/plain": [
       "unkwnow        4337\n",
       "white shark     613\n",
       "tiger shark     256\n",
       "bull shark      170\n",
       "nurse shark      95\n",
       "Name: species, dtype: int64"
      ]
     },
     "execution_count": 351,
     "metadata": {},
     "output_type": "execute_result"
    }
   ],
   "source": [
    "#Pasamos una nueva función que quite los casos con dos letras delante de shark\n",
    "\n",
    "def species2(x):\n",
    "    \n",
    "    x=str(x.lower())\n",
    "    \n",
    "    \n",
    "    keyw='([a-zA-Z]{1,2}\\sshark)'\n",
    "    \n",
    "    shark=re.findall(keyw,x)\n",
    "    \n",
    "    if x in re.findall(keyw,x):\n",
    "        return 'unkwnow'\n",
    "    else:\n",
    "        return x\n",
    "    \n",
    "sharkv5.species=sharkv5.species.apply(species2)\n",
    "\n",
    "sharkv5.species.nunique()  #126\n",
    "\n",
    "sharkv5.species.value_counts().head()\n",
    "\n"
   ]
  },
  {
   "cell_type": "code",
   "execution_count": 352,
   "metadata": {},
   "outputs": [],
   "source": [
    "##LAS COLUMNAS PDF, HREF,HREF_FORMULA Y ORIGINAL NUMBER \n",
    "#Solo limpiamos los null ya que no las vamos a usar\n",
    "sharkv5.pdf.isna().sum()\n",
    "\n",
    "sharkv5.pdf.fillna(value='unkwnow', inplace=True)\n",
    "\n",
    "sharkv5.href.isna().sum()\n",
    "\n",
    "sharkv5.href.fillna(value='unkwnow', inplace=True)\n",
    "\n",
    "sharkv5.hrefformula.isna().sum()\n",
    "\n",
    "sharkv5.hrefformula.fillna(value='unkwnow', inplace=True)\n",
    "\n",
    "sharkv5.originalorder.isna().sum()\n",
    "\n",
    "sharkv5.originalorder.fillna(value='unkwnow', inplace=True)"
   ]
  },
  {
   "cell_type": "code",
   "execution_count": null,
   "metadata": {},
   "outputs": [],
   "source": []
  },
  {
   "cell_type": "code",
   "execution_count": null,
   "metadata": {},
   "outputs": [],
   "source": []
  },
  {
   "cell_type": "code",
   "execution_count": null,
   "metadata": {},
   "outputs": [],
   "source": []
  },
  {
   "cell_type": "code",
   "execution_count": null,
   "metadata": {},
   "outputs": [],
   "source": []
  }
 ],
 "metadata": {
  "kernelspec": {
   "display_name": "Python 3.9.12 ('base')",
   "language": "python",
   "name": "python3"
  },
  "language_info": {
   "codemirror_mode": {
    "name": "ipython",
    "version": 3
   },
   "file_extension": ".py",
   "mimetype": "text/x-python",
   "name": "python",
   "nbconvert_exporter": "python",
   "pygments_lexer": "ipython3",
   "version": "3.9.12"
  },
  "orig_nbformat": 4,
  "vscode": {
   "interpreter": {
    "hash": "1551151381e773f0aad4d7f5dd85d557969b09f98d8f1647db122078155b292b"
   }
  }
 },
 "nbformat": 4,
 "nbformat_minor": 2
}
